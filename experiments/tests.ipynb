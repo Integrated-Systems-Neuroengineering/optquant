{
 "cells": [
  {
   "cell_type": "code",
   "execution_count": 24,
   "metadata": {},
   "outputs": [],
   "source": [
    "import __init__\n",
    "from adim import *\n",
    "from jax import random\n",
    "import jax.numpy as jnp\n",
    "\n",
    "from numpyro.infer import Predictive\n",
    "from matplotlib import pyplot as plt"
   ]
  },
  {
   "cell_type": "code",
   "execution_count": 17,
   "metadata": {},
   "outputs": [
    {
     "name": "stderr",
     "output_type": "stream",
     "text": [
      "/Users/johannes/Projects/Optimal Thresholds for Approximate Analog In-Memory Computing/.venv/lib/python3.12/site-packages/jax/_src/ops/scatter.py:92: FutureWarning: scatter inputs have incompatible types: cannot safely cast value from dtype=float64 to dtype=int64 with jax_numpy_dtype_promotion='standard'. In future JAX releases this will result in an error.\n",
      "  warnings.warn(\n"
     ]
    }
   ],
   "source": [
    "xmin, xmax = -5.5, 5.5\n",
    "rng_key, rng_key_ = random.split(random.PRNGKey(0))\n",
    "\n",
    "noise_std = 0.1\n",
    "vector_length = 1\n",
    "fixed = 0\n",
    "distribution = \"bipolar\"\n",
    "thresholds = compute_thresholds(num_bits=3, phase=0, scale=1, distribution=\"bipolar\", vector_length=vector_length).ravel()"
   ]
  },
  {
   "cell_type": "code",
   "execution_count": 18,
   "metadata": {},
   "outputs": [
    {
     "data": {
      "text/plain": [
       "Array(1., dtype=float64)"
      ]
     },
     "execution_count": 18,
     "metadata": {},
     "output_type": "execute_result"
    }
   ],
   "source": [
    "MIbits(vector_length=vector_length, thresholds=thresholds, noise_std=noise_std, distribution=\"bipolar\", fixed=fixed)\n",
    "# MI(12, thresholds, noise_std=0.1, distribution=\"bipolar\")"
   ]
  },
  {
   "cell_type": "code",
   "execution_count": 19,
   "metadata": {},
   "outputs": [
    {
     "data": {
      "text/plain": [
       "Array(0.5, dtype=float64)"
      ]
     },
     "execution_count": 19,
     "metadata": {},
     "output_type": "execute_result"
    }
   ],
   "source": [
    "jnp.exp(log_pdf_n(1, vector_length=vector_length, distribution=distribution))"
   ]
  },
  {
   "cell_type": "code",
   "execution_count": 20,
   "metadata": {},
   "outputs": [
    {
     "data": {
      "text/plain": [
       "Array([[0.00000000e+000, 4.90671393e-198],\n",
       "       [0.00000000e+000, 0.00000000e+000],\n",
       "       [0.00000000e+000, 0.00000000e+000]], dtype=float64)"
      ]
     },
     "execution_count": 20,
     "metadata": {},
     "output_type": "execute_result"
    }
   ],
   "source": [
    "jnp.exp(log_pdf_y_n(jnp.array([[0,1]]), jnp.array([[-1],[0],[1]]), thresholds[None,None,...], noise_std=noise_std))"
   ]
  },
  {
   "cell_type": "code",
   "execution_count": 21,
   "metadata": {},
   "outputs": [
    {
     "data": {
      "text/plain": [
       "Array([[0.00000000e+000, 2.45335696e-198],\n",
       "       [0.00000000e+000, 0.00000000e+000],\n",
       "       [0.00000000e+000, 0.00000000e+000]], dtype=float64)"
      ]
     },
     "execution_count": 21,
     "metadata": {},
     "output_type": "execute_result"
    }
   ],
   "source": [
    "jnp.exp(log_pdf_yn(jnp.array([[0,1]]), jnp.array([[-1],[0],[1]]), thresholds[None,None,...], noise_std=noise_std, vector_length=vector_length, distribution=distribution))"
   ]
  },
  {
   "cell_type": "code",
   "execution_count": 22,
   "metadata": {},
   "outputs": [
    {
     "data": {
      "text/plain": [
       "Array([            nan, 0.00000000e+000, 2.45335696e-198, 3.80992651e-024],      dtype=float64)"
      ]
     },
     "execution_count": 22,
     "metadata": {},
     "output_type": "execute_result"
    }
   ],
   "source": [
    "jnp.exp(log_pdf_y(jnp.array([-1, 0, 1, 2]), thresholds[None,...], noise_std=noise_std, vector_length=vector_length, distribution=distribution))"
   ]
  },
  {
   "cell_type": "code",
   "execution_count": null,
   "metadata": {},
   "outputs": [
    {
     "name": "stderr",
     "output_type": "stream",
     "text": [
      "/Users/johannes/Projects/Optimal Thresholds for Approximate Analog In-Memory Computing/.venv/lib/python3.12/site-packages/jax/_src/ops/scatter.py:92: FutureWarning: scatter inputs have incompatible types: cannot safely cast value from dtype=float64 to dtype=int64 with jax_numpy_dtype_promotion='standard'. In future JAX releases this will result in an error.\n",
      "  warnings.warn(\n"
     ]
    }
   ],
   "source": [
    "xmin, xmax = -5.5, 5.5\n",
    "rng_key, rng_key_ = random.split(random.PRNGKey(0))\n",
    "\n",
    "noise_std = 0.1\n",
    "vector_length = 1\n",
    "fixed = 0\n",
    "distribution = \"bipolar\"\n",
    "thresholds = compute_thresholds(num_bits=3, phase=0, scale=1, distribution=\"bipolar\", vector_length=vector_length).ravel()"
   ]
  },
  {
   "cell_type": "code",
   "execution_count": 25,
   "metadata": {},
   "outputs": [
    {
     "data": {
      "image/png": "[encoded data removed]",
      "text/plain": [
       "<Figure size 640x480 with 1 Axes>"
      ]
     },
     "metadata": {},
     "output_type": "display_data"
    }
   ],
   "source": [
    "\n",
    "trace = Predictive(model, {}, num_samples=10000)(\n",
    "    rng_key_, vector_length=vector_length, distribution=distribution, thresholds=thresholds\n",
    ")\n",
    "\n",
    "x_inset = jnp.take(\n",
    "    trace[\"x\"], jnp.where((xmin <= trace[\"x\"]) * (trace[\"x\"] <= xmax))[0]\n",
    ")\n",
    "\n",
    "bins = jnp.linspace(xmin, xmax, 200)\n",
    "\n",
    "# sns.kdeplot(x_inset, label=\"x\", gridsize=1000)\n",
    "plt.hist(x_inset, bins=bins, alpha=0.5, label=\"x\", color=\"silver\")\n",
    "\n",
    "for i, threshold in enumerate(thresholds[1:-1]):\n",
    "    # compute x-values for each class\n",
    "    x_y = jnp.take(trace[\"x\"], jnp.where(trace[\"y\"] == i)[0])\n",
    "    plt.axvline(threshold, color=f\"C{i}\", linestyle=\"--\")\n",
    "    plt.hist(x_y, bins=bins, alpha=0.5, label=f\"y={i}\", color=f\"C{i}\")"
   ]
  },
  {
   "cell_type": "code",
   "execution_count": null,
   "metadata": {},
   "outputs": [],
   "source": []
  }
 ],
 "metadata": {
  "kernelspec": {
   "display_name": ".venv",
   "language": "python",
   "name": "python3"
  },
  "language_info": {
   "codemirror_mode": {
    "name": "ipython",
    "version": 3
   },
   "file_extension": ".py",
   "mimetype": "text/x-python",
   "name": "python",
   "nbconvert_exporter": "python",
   "pygments_lexer": "ipython3",
   "version": "3.12.5"
  }
 },
 "nbformat": 4,
 "nbformat_minor": 2
}
