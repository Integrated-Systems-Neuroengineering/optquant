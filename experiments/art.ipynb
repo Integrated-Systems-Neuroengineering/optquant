{
 "cells": [
  {
   "cell_type": "code",
   "execution_count": null,
   "metadata": {},
   "outputs": [],
   "source": [
    "d = dists.Binomial(256, 0.5)\n",
    "support = jnp.array(d.enumerate_support())*2 - 256\n",
    "probabilities = jnp.exp(d.log_prob(d.enumerate_support()))\n",
    "\n",
    "phase = jnp.linspace(-256, 256, 1000)\n",
    "scale = jnp.logspace(-1, 2, 1000)\n",
    "\n",
    "for bins in [2**5, 2**6]:\n",
    "    MIs = MI(scale, phase, bins, support, probabilities)\n",
    "    max_idx = MIs.argmax()\n",
    "    max_scale_idx, max_phase_idx = jnp.unravel_index(max_idx, MIs.shape)\n",
    "    max_scale = scale[max_scale_idx]\n",
    "    max_phase = phase[max_phase_idx]\n",
    "\n",
    "    plt.plot(scale, MIs, label=f'{bins} bins')"
   ]
  },
  {
   "cell_type": "markdown",
   "metadata": {},
   "source": [
    "$$\\begin{align}\n",
    "\\text{MI}(Y;N) &= \\sum_{n} p_N(n) \\sum_{y} p_{Y|N}(y|n,\\theta) \\left( \\log p_{Y|N}(y|n, \\theta) - \\log p_Y(y | \\theta) \\right) \\\\\n",
    "\\frac{d}{d\\theta_i}\\text{MI}(Y;N) &= \\sum_{n} p_N(n) \\sum_{y} \\left[\\left(\\frac{d}{d\\theta_i}p_{Y|N}(y|n,\\theta)\\right) \\left( \\log p_{Y|N}(y|n, \\theta) - \\log p_Y(y | \\theta) \\right) + p_{Y|N}(y|n,\\theta) \\left(\\frac{\\frac{d}{d\\theta_i}p_{Y|N}(y|n, \\theta)}{p_{Y|N}(y|n, \\theta)} - \\frac{\\sum_k p_N(k) \\frac{d}{d\\theta_i} p_{Y|N}(y | k, \\theta)}{p_Y(y | \\theta)} \\right) \\right] \\\\\n",
    "\\frac{d}{d\\theta_i} p_{Y|N}(y | k, \\theta) &= \\frac{d}{d\\theta_i} \\left( \\Phi(\\frac{\\theta_{y+1}-k}{\\sigma}) - \\Phi(\\frac{\\theta_{y}-k}{\\sigma})\\right) = \\frac{1}{\\sigma}\\phi(\\frac{\\theta_{i}-k}{\\sigma}) \\begin{cases} 1 & \\text{ if } i = y+1 \\\\ -1 & \\text{ if } i = y \\\\ 0 & \\text{ otherwise} \\end{cases} \\\\\n",
    "\\end{align}$$"
   ]
  },
  {
   "cell_type": "markdown",
   "metadata": {},
   "source": [
    "$$\\begin{align}\n",
    "\\frac{d}{d\\theta_i}\\text{MI}(Y;N) &= \\sum_{n} p_N(n) [\\frac{1}{\\sigma}\\phi(\\frac{\\theta_i-n}{\\sigma})\\left( \\log p_{Y|N}(i-1|n, \\theta) - \\log p_Y(i-1 | \\theta) - \\log p_{Y|N}(i | n, \\theta) + \\log p_Y(i | \\theta) \\right) \\\\\n",
    "&\\quad - p_{Y|N}(i-1 | n, \\theta)\\frac{\\sum_k p_N(k) \\frac{1}{\\sigma}\\phi(\\frac{\\theta_i-k}{\\sigma}) }{p_Y(i-1 | \\theta)} + p_{Y|N}(i | n, \\theta)\\frac{\\sum_k p_N(k) \\frac{1}{\\sigma}\\phi(\\frac{\\theta_i-k}{\\sigma}) }{p_Y(i | \\theta)}]\n",
    "\\end{align}$$"
   ]
  }
 ],
 "metadata": {
  "language_info": {
   "name": "python"
  }
 },
 "nbformat": 4,
 "nbformat_minor": 2
}
